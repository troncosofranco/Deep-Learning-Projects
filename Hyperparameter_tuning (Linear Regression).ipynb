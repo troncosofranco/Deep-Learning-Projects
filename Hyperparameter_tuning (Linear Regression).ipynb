{
  "nbformat": 4,
  "nbformat_minor": 0,
  "metadata": {
    "colab": {
      "name": "Linear regression (hyperparameter tuning).ipynb",
      "provenance": [],
      "collapsed_sections": []
    },
    "kernelspec": {
      "name": "python3",
      "display_name": "Python 3"
    },
    "language_info": {
      "name": "python"
    }
  },
  "cells": [
    {
      "cell_type": "markdown",
      "source": [
        "# 1. Import modules"
      ],
      "metadata": {
        "id": "Oj0FdYKP-sLP"
      }
    },
    {
      "cell_type": "code",
      "execution_count": null,
      "metadata": {
        "id": "VTe0AyW16Hv6"
      },
      "outputs": [],
      "source": [
        "#Imports\n",
        "import pandas as pd\n",
        "import tensorflow as tf\n",
        "from matplotlib import pyplot as plt"
      ]
    },
    {
      "cell_type": "markdown",
      "source": [
        "# 2. Define functions to build and train the model"
      ],
      "metadata": {
        "id": "w7-n0cC96cbW"
      }
    },
    {
      "cell_type": "code",
      "source": [
        "def build_model(my_learning_rate):\n",
        "  model = tf.keras.models.Sequential() #model with one or more layers.\n",
        "  \n",
        "  # The topography of a simple linear regression model is a single node in a single layer. \n",
        "  model.add(tf.keras.layers.Dense(units=1, input_shape=(1,)))\n",
        "  \n",
        "  # Compile the model topography into code -> minimize model's mean squared error. \n",
        "  model.compile(optimizer=tf.keras.optimizers.RMSprop(lr=my_learning_rate),\n",
        "                loss=\"mean_squared_error\", \n",
        "                metrics=[tf.keras.metrics.RootMeanSquaredError()])\n",
        "\n",
        "  return model           \n",
        "\n",
        "def train_model(model, feature, label, epochs, batch_size):\n",
        "  history = model.fit(x=feature,\n",
        "                      y=label,\n",
        "                      batch_size=batch_size,\n",
        "                      epochs=epochs)\n",
        "\n",
        "  # Gather the trained model's weight and bias.\n",
        "  trained_weight = model.get_weights()[0]\n",
        "  trained_bias = model.get_weights()[1]\n",
        "\n",
        "  # The list of epochs is stored separately from the \n",
        "  \n",
        "  epochs = history.epoch\n",
        "  \n",
        "  # Gather the history (a snapshot) of each epoch.\n",
        "  hist = pd.DataFrame(history.history)\n",
        "\n",
        "  # Specifically gather the model's root mean \n",
        "  #squared error at each epoch. \n",
        "  rmse = hist[\"root_mean_squared_error\"]\n",
        "\n",
        "  return trained_weight, trained_bias, epochs, rmse\n",
        "\n"
      ],
      "metadata": {
        "id": "AQgU_qqj6SBP"
      },
      "execution_count": null,
      "outputs": []
    },
    {
      "cell_type": "markdown",
      "source": [
        "# 3. Define plotting functions"
      ],
      "metadata": {
        "id": "PxqscUoZ83pA"
      }
    },
    {
      "cell_type": "code",
      "source": [
        "def plot_the_model(trained_weight, trained_bias, feature, label):\n",
        "  # Label the axes.\n",
        "  plt.xlabel(\"feature\")\n",
        "  plt.ylabel(\"label\")\n",
        "\n",
        "  # Plot the feature values vs label values.\n",
        "  plt.scatter(feature, label)\n",
        "\n",
        "  # Plorring red line from (x0, y0) to (x1, y1).\n",
        "  x0 = 0\n",
        "  y0 = trained_bias\n",
        "  x1 = feature[-1]\n",
        "  y1 = trained_bias + (trained_weight * x1)\n",
        "  plt.plot([x0, x1], [y0, y1], c='r')\n",
        "\n",
        "  # scatter plot and the red line (regression line)\n",
        "  plt.show()\n",
        "\n",
        "def plot_the_loss_curve(epochs, rmse):\n",
        "  plt.figure()\n",
        "  plt.xlabel(\"Epoch\")\n",
        "  plt.ylabel(\"Root Mean Squared Error\")\n",
        "\n",
        "  plt.plot(epochs, rmse, label=\"Loss\")\n",
        "  plt.legend()\n",
        "  plt.ylim([rmse.min()*0.97, rmse.max()])\n",
        "  plt.show()\n",
        "\n"
      ],
      "metadata": {
        "id": "92CGjSZA8roB"
      },
      "execution_count": null,
      "outputs": []
    },
    {
      "cell_type": "markdown",
      "source": [
        "# 4. Define dataset"
      ],
      "metadata": {
        "id": "jMvEW5dm96Hu"
      }
    },
    {
      "cell_type": "code",
      "source": [
        "my_feature = ([1.0, 2.0,  3.0,  4.0,  5.0,  6.0,  7.0,  8.0,  9.0, 10.0, 11.0, 12.0])\n",
        "my_label   = ([5.0, 8.8,  9.6, 14.2, 18.8, 19.5, 21.4, 26.8, 28.9, 32.0, 33.8, 38.2])"
      ],
      "metadata": {
        "id": "R3ZNkXDT9ynB"
      },
      "execution_count": null,
      "outputs": []
    },
    {
      "cell_type": "markdown",
      "source": [
        "# 5.Specify the hyperparameters\n",
        "In this prooject the hyperparameters are:\n",
        "- Learning rate\n",
        "- Epochs\n",
        "- Batch_size\n",
        "\n",
        "\n",
        "\n"
      ],
      "metadata": {
        "id": "701ap0uZ-K4H"
      }
    },
    {
      "cell_type": "code",
      "source": [
        "#Initial hyperparameters values\n",
        "learning_rate=0.01\n",
        "epochs=10\n",
        "my_batch_size=12\n",
        "\n",
        "my_model = build_model(learning_rate)\n",
        "trained_weight, trained_bias, epochs, rmse = train_model(my_model, my_feature, \n",
        "                                                         my_label, epochs,\n",
        "                                                         my_batch_size)\n",
        "plot_the_model(trained_weight, trained_bias, my_feature, my_label)\n",
        "plot_the_loss_curve(epochs, rmse)"
      ],
      "metadata": {
        "colab": {
          "base_uri": "https://localhost:8080/",
          "height": 982
        },
        "id": "vzSRW1rc9-y3",
        "outputId": "33087f84-04db-4728-fc77-4fd53bbcc449"
      },
      "execution_count": null,
      "outputs": [
        {
          "output_type": "stream",
          "name": "stderr",
          "text": [
            "/usr/local/lib/python3.7/dist-packages/keras/optimizer_v2/rmsprop.py:130: UserWarning: The `lr` argument is deprecated, use `learning_rate` instead.\n",
            "  super(RMSprop, self).__init__(name, **kwargs)\n"
          ]
        },
        {
          "output_type": "stream",
          "name": "stdout",
          "text": [
            "Epoch 1/10\n",
            "1/1 [==============================] - 1s 805ms/step - loss: 395.3076 - root_mean_squared_error: 19.8823\n",
            "Epoch 2/10\n",
            "1/1 [==============================] - 0s 13ms/step - loss: 385.0054 - root_mean_squared_error: 19.6216\n",
            "Epoch 3/10\n",
            "1/1 [==============================] - 0s 12ms/step - loss: 377.6629 - root_mean_squared_error: 19.4336\n",
            "Epoch 4/10\n",
            "1/1 [==============================] - 0s 18ms/step - loss: 371.5926 - root_mean_squared_error: 19.2767\n",
            "Epoch 5/10\n",
            "1/1 [==============================] - 0s 20ms/step - loss: 366.2606 - root_mean_squared_error: 19.1379\n",
            "Epoch 6/10\n",
            "1/1 [==============================] - 0s 23ms/step - loss: 361.4197 - root_mean_squared_error: 19.0110\n",
            "Epoch 7/10\n",
            "1/1 [==============================] - 0s 21ms/step - loss: 356.9325 - root_mean_squared_error: 18.8927\n",
            "Epoch 8/10\n",
            "1/1 [==============================] - 0s 35ms/step - loss: 352.7134 - root_mean_squared_error: 18.7807\n",
            "Epoch 9/10\n",
            "1/1 [==============================] - 0s 21ms/step - loss: 348.7055 - root_mean_squared_error: 18.6737\n",
            "Epoch 10/10\n",
            "1/1 [==============================] - 0s 20ms/step - loss: 344.8684 - root_mean_squared_error: 18.5706\n"
          ]
        },
        {
          "output_type": "stream",
          "name": "stderr",
          "text": [
            "/usr/local/lib/python3.7/dist-packages/numpy/core/shape_base.py:65: VisibleDeprecationWarning: Creating an ndarray from ragged nested sequences (which is a list-or-tuple of lists-or-tuples-or ndarrays with different lengths or shapes) is deprecated. If you meant to do this, you must specify 'dtype=object' when creating the ndarray.\n",
            "  ary = asanyarray(ary)\n"
          ]
        },
        {
          "output_type": "display_data",
          "data": {
            "text/plain": [
              "<Figure size 432x288 with 1 Axes>"
            ],
            "image/png": "[encoded data removed]"
          },
          "metadata": {
            "needs_background": "light"
          }
        },
        {
          "output_type": "display_data",
          "data": {
            "text/plain": [
              "<Figure size 432x288 with 1 Axes>"
            ],
            "image/png": "[encoded data removed]"
          },
          "metadata": {
            "needs_background": "light"
          }
        }
      ]
    },
    {
      "cell_type": "markdown",
      "source": [
        "#6. Tune the hyperparameter\n",
        "### - Learning rate and epochs"
      ],
      "metadata": {
        "id": "PXR4Y9ymAwzP"
      }
    },
    {
      "cell_type": "code",
      "source": [
        "#Epochs tuning \n",
        "learning_rate=0.15\n",
        "epochs=30\n",
        "my_batch_size=12\n",
        "\n",
        "my_model = build_model(learning_rate)\n",
        "trained_weight, trained_bias, epochs, rmse = train_model(my_model, my_feature, \n",
        "                                                         my_label, epochs,\n",
        "                                                         my_batch_size)\n",
        "plot_the_model(trained_weight, trained_bias, my_feature, my_label)\n",
        "plot_the_loss_curve(epochs, rmse)\n",
        "\n",
        "# The loss curve suggests that the model does converge."
      ],
      "metadata": {
        "colab": {
          "base_uri": "https://localhost:8080/",
          "height": 1000
        },
        "id": "iHJPL3xq_efJ",
        "outputId": "1c7ae37d-3315-4d92-fa8d-fbd1f25f72e6"
      },
      "execution_count": null,
      "outputs": [
        {
          "output_type": "stream",
          "name": "stderr",
          "text": [
            "/usr/local/lib/python3.7/dist-packages/keras/optimizer_v2/rmsprop.py:130: UserWarning: The `lr` argument is deprecated, use `learning_rate` instead.\n",
            "  super(RMSprop, self).__init__(name, **kwargs)\n"
          ]
        },
        {
          "output_type": "stream",
          "name": "stdout",
          "text": [
            "Epoch 1/30\n",
            "1/1 [==============================] - 1s 613ms/step - loss: 536.9372 - root_mean_squared_error: 23.1719\n",
            "Epoch 2/30\n",
            "1/1 [==============================] - 0s 10ms/step - loss: 370.9403 - root_mean_squared_error: 19.2598\n",
            "Epoch 3/30\n",
            "1/1 [==============================] - 0s 13ms/step - loss: 278.3379 - root_mean_squared_error: 16.6835\n",
            "Epoch 4/30\n",
            "1/1 [==============================] - 0s 25ms/step - loss: 215.1870 - root_mean_squared_error: 14.6693\n",
            "Epoch 5/30\n",
            "1/1 [==============================] - 0s 48ms/step - loss: 168.6451 - root_mean_squared_error: 12.9863\n",
            "Epoch 6/30\n",
            "1/1 [==============================] - 0s 13ms/step - loss: 132.9646 - root_mean_squared_error: 11.5310\n",
            "Epoch 7/30\n",
            "1/1 [==============================] - 0s 18ms/step - loss: 104.9997 - root_mean_squared_error: 10.2469\n",
            "Epoch 8/30\n",
            "1/1 [==============================] - 0s 12ms/step - loss: 82.8064 - root_mean_squared_error: 9.0998\n",
            "Epoch 9/30\n",
            "1/1 [==============================] - 0s 26ms/step - loss: 65.0801 - root_mean_squared_error: 8.0672\n",
            "Epoch 10/30\n",
            "1/1 [==============================] - 0s 10ms/step - loss: 50.8909 - root_mean_squared_error: 7.1338\n",
            "Epoch 11/30\n",
            "1/1 [==============================] - 0s 11ms/step - loss: 39.5449 - root_mean_squared_error: 6.2885\n",
            "Epoch 12/30\n",
            "1/1 [==============================] - 0s 34ms/step - loss: 30.5053 - root_mean_squared_error: 5.5232\n",
            "Epoch 13/30\n",
            "1/1 [==============================] - 0s 37ms/step - loss: 23.3455 - root_mean_squared_error: 4.8317\n",
            "Epoch 14/30\n",
            "1/1 [==============================] - 0s 37ms/step - loss: 17.7190 - root_mean_squared_error: 4.2094\n",
            "Epoch 15/30\n",
            "1/1 [==============================] - 0s 19ms/step - loss: 13.3403 - root_mean_squared_error: 3.6524\n",
            "Epoch 16/30\n",
            "1/1 [==============================] - 0s 36ms/step - loss: 9.9716 - root_mean_squared_error: 3.1578\n",
            "Epoch 17/30\n",
            "1/1 [==============================] - 0s 12ms/step - loss: 7.4140 - root_mean_squared_error: 2.7229\n",
            "Epoch 18/30\n",
            "1/1 [==============================] - 0s 13ms/step - loss: 5.5010 - root_mean_squared_error: 2.3454\n",
            "Epoch 19/30\n",
            "1/1 [==============================] - 0s 12ms/step - loss: 4.0939 - root_mean_squared_error: 2.0233\n",
            "Epoch 20/30\n",
            "1/1 [==============================] - 0s 13ms/step - loss: 3.0776 - root_mean_squared_error: 1.7543\n",
            "Epoch 21/30\n",
            "1/1 [==============================] - 0s 40ms/step - loss: 2.3583 - root_mean_squared_error: 1.5357\n",
            "Epoch 22/30\n",
            "1/1 [==============================] - 0s 19ms/step - loss: 1.8602 - root_mean_squared_error: 1.3639\n",
            "Epoch 23/30\n",
            "1/1 [==============================] - 0s 42ms/step - loss: 1.5233 - root_mean_squared_error: 1.2342\n",
            "Epoch 24/30\n",
            "1/1 [==============================] - 0s 34ms/step - loss: 1.3012 - root_mean_squared_error: 1.1407\n",
            "Epoch 25/30\n",
            "1/1 [==============================] - 0s 37ms/step - loss: 1.1587 - root_mean_squared_error: 1.0764\n",
            "Epoch 26/30\n",
            "1/1 [==============================] - 0s 18ms/step - loss: 1.0698 - root_mean_squared_error: 1.0343\n",
            "Epoch 27/30\n",
            "1/1 [==============================] - 0s 20ms/step - loss: 1.0159 - root_mean_squared_error: 1.0079\n",
            "Epoch 28/30\n",
            "1/1 [==============================] - 0s 14ms/step - loss: 0.9842 - root_mean_squared_error: 0.9920\n",
            "Epoch 29/30\n",
            "1/1 [==============================] - 0s 13ms/step - loss: 0.9659 - root_mean_squared_error: 0.9828\n",
            "Epoch 30/30\n",
            "1/1 [==============================] - 0s 31ms/step - loss: 0.9555 - root_mean_squared_error: 0.9775\n"
          ]
        },
        {
          "output_type": "stream",
          "name": "stderr",
          "text": [
            "/usr/local/lib/python3.7/dist-packages/numpy/core/shape_base.py:65: VisibleDeprecationWarning: Creating an ndarray from ragged nested sequences (which is a list-or-tuple of lists-or-tuples-or ndarrays with different lengths or shapes) is deprecated. If you meant to do this, you must specify 'dtype=object' when creating the ndarray.\n",
            "  ary = asanyarray(ary)\n"
          ]
        },
        {
          "output_type": "display_data",
          "data": {
            "text/plain": [
              "<Figure size 432x288 with 1 Axes>"
            ],
            "image/png": "[encoded data removed]"
          },
          "metadata": {
            "needs_background": "light"
          }
        },
        {
          "output_type": "display_data",
          "data": {
            "text/plain": [
              "<Figure size 432x288 with 1 Axes>"
            ],
            "image/png": "[encoded data removed]"
          },
          "metadata": {
            "needs_background": "light"
          }
        }
      ]
    },
    {
      "cell_type": "code",
      "source": [
        ""
      ],
      "metadata": {
        "id": "Jhbo6PAhAJ-H"
      },
      "execution_count": null,
      "outputs": []
    },
    {
      "cell_type": "markdown",
      "source": [
        "### b. Batch size\n"
      ],
      "metadata": {
        "id": "bYPSaLa_BLTf"
      }
    },
    {
      "cell_type": "code",
      "source": [
        "learning_rate=0.15\n",
        "epochs=30\n",
        "my_batch_size=8\n",
        "\n",
        "my_model = build_model(learning_rate)\n",
        "trained_weight, trained_bias, epochs, rmse = train_model(my_model, my_feature, \n",
        "                                                         my_label, epochs,\n",
        "                                                         my_batch_size)\n",
        "plot_the_model(trained_weight, trained_bias, my_feature, my_label)\n",
        "plot_the_loss_curve(epochs, rmse)"
      ],
      "metadata": {
        "colab": {
          "base_uri": "https://localhost:8080/",
          "height": 1000
        },
        "id": "-Y0W9jO4BXy2",
        "outputId": "96ffd21b-ff3c-4587-bdd2-533ced305044"
      },
      "execution_count": null,
      "outputs": [
        {
          "output_type": "stream",
          "name": "stdout",
          "text": [
            "Epoch 1/30\n"
          ]
        },
        {
          "output_type": "stream",
          "name": "stderr",
          "text": [
            "/usr/local/lib/python3.7/dist-packages/keras/optimizer_v2/rmsprop.py:130: UserWarning: The `lr` argument is deprecated, use `learning_rate` instead.\n",
            "  super(RMSprop, self).__init__(name, **kwargs)\n"
          ]
        },
        {
          "output_type": "stream",
          "name": "stdout",
          "text": [
            "2/2 [==============================] - 1s 5ms/step - loss: 319.3919 - root_mean_squared_error: 17.8715\n",
            "Epoch 2/30\n",
            "2/2 [==============================] - 0s 10ms/step - loss: 139.6849 - root_mean_squared_error: 11.8188\n",
            "Epoch 3/30\n",
            "2/2 [==============================] - 0s 10ms/step - loss: 70.7501 - root_mean_squared_error: 8.4113\n",
            "Epoch 4/30\n",
            "2/2 [==============================] - 0s 10ms/step - loss: 42.4502 - root_mean_squared_error: 6.5154\n",
            "Epoch 5/30\n",
            "2/2 [==============================] - 0s 10ms/step - loss: 24.7778 - root_mean_squared_error: 4.9777\n",
            "Epoch 6/30\n",
            "2/2 [==============================] - 0s 10ms/step - loss: 12.6173 - root_mean_squared_error: 3.5521\n",
            "Epoch 7/30\n",
            "2/2 [==============================] - 0s 19ms/step - loss: 6.4739 - root_mean_squared_error: 2.5444\n",
            "Epoch 8/30\n",
            "2/2 [==============================] - 0s 10ms/step - loss: 3.4363 - root_mean_squared_error: 1.8537\n",
            "Epoch 9/30\n",
            "2/2 [==============================] - 0s 8ms/step - loss: 1.9783 - root_mean_squared_error: 1.4065\n",
            "Epoch 10/30\n",
            "2/2 [==============================] - 0s 5ms/step - loss: 1.2324 - root_mean_squared_error: 1.1101\n",
            "Epoch 11/30\n",
            "2/2 [==============================] - 0s 8ms/step - loss: 0.9739 - root_mean_squared_error: 0.9869\n",
            "Epoch 12/30\n",
            "2/2 [==============================] - 0s 8ms/step - loss: 0.9139 - root_mean_squared_error: 0.9560\n",
            "Epoch 13/30\n",
            "2/2 [==============================] - 0s 8ms/step - loss: 0.9025 - root_mean_squared_error: 0.9500\n",
            "Epoch 14/30\n",
            "2/2 [==============================] - 0s 4ms/step - loss: 0.9060 - root_mean_squared_error: 0.9518\n",
            "Epoch 15/30\n",
            "2/2 [==============================] - 0s 3ms/step - loss: 0.8986 - root_mean_squared_error: 0.9480\n",
            "Epoch 16/30\n",
            "2/2 [==============================] - 0s 5ms/step - loss: 0.9100 - root_mean_squared_error: 0.9540\n",
            "Epoch 17/30\n",
            "2/2 [==============================] - 0s 3ms/step - loss: 0.9144 - root_mean_squared_error: 0.9562\n",
            "Epoch 18/30\n",
            "2/2 [==============================] - 0s 3ms/step - loss: 0.9018 - root_mean_squared_error: 0.9496\n",
            "Epoch 19/30\n",
            "2/2 [==============================] - 0s 9ms/step - loss: 0.8968 - root_mean_squared_error: 0.9470\n",
            "Epoch 20/30\n",
            "2/2 [==============================] - 0s 8ms/step - loss: 0.9184 - root_mean_squared_error: 0.9584\n",
            "Epoch 21/30\n",
            "2/2 [==============================] - 0s 7ms/step - loss: 0.9330 - root_mean_squared_error: 0.9659\n",
            "Epoch 22/30\n",
            "2/2 [==============================] - 0s 7ms/step - loss: 0.9968 - root_mean_squared_error: 0.9984\n",
            "Epoch 23/30\n",
            "2/2 [==============================] - 0s 7ms/step - loss: 0.9161 - root_mean_squared_error: 0.9571\n",
            "Epoch 24/30\n",
            "2/2 [==============================] - 0s 7ms/step - loss: 1.0048 - root_mean_squared_error: 1.0024\n",
            "Epoch 25/30\n",
            "2/2 [==============================] - 0s 7ms/step - loss: 0.9608 - root_mean_squared_error: 0.9802\n",
            "Epoch 26/30\n",
            "2/2 [==============================] - 0s 9ms/step - loss: 0.8791 - root_mean_squared_error: 0.9376\n",
            "Epoch 27/30\n",
            "2/2 [==============================] - 0s 8ms/step - loss: 0.8938 - root_mean_squared_error: 0.9454\n",
            "Epoch 28/30\n",
            "2/2 [==============================] - 0s 8ms/step - loss: 0.9441 - root_mean_squared_error: 0.9716\n",
            "Epoch 29/30\n",
            "2/2 [==============================] - 0s 6ms/step - loss: 0.9064 - root_mean_squared_error: 0.9521\n",
            "Epoch 30/30\n",
            "2/2 [==============================] - 0s 6ms/step - loss: 1.8699 - root_mean_squared_error: 1.3674\n"
          ]
        },
        {
          "output_type": "stream",
          "name": "stderr",
          "text": [
            "/usr/local/lib/python3.7/dist-packages/numpy/core/shape_base.py:65: VisibleDeprecationWarning: Creating an ndarray from ragged nested sequences (which is a list-or-tuple of lists-or-tuples-or ndarrays with different lengths or shapes) is deprecated. If you meant to do this, you must specify 'dtype=object' when creating the ndarray.\n",
            "  ary = asanyarray(ary)\n"
          ]
        },
        {
          "output_type": "display_data",
          "data": {
            "text/plain": [
              "<Figure size 432x288 with 1 Axes>"
            ],
            "image/png": "[encoded data removed]"
          },
          "metadata": {
            "needs_background": "light"
          }
        },
        {
          "output_type": "display_data",
          "data": {
            "text/plain": [
              "<Figure size 432x288 with 1 Axes>"
            ],
            "image/png": "[encoded data removed]"
          },
          "metadata": {
            "needs_background": "light"
          }
        }
      ]
    },
    {
      "cell_type": "markdown",
      "source": [
        "#Hyperparameter tuning: rules of thumb\n",
        "\n",
        "- Training loss should steadily decrease, steeply at first, and then more slowly until the slope of the curve reaches or approaches zero.\n",
        "- If the training loss does not converge, train for more epochs.\n",
        "- If the training loss decreases too slowly, increase the learning rate. Note that setting the learning rate too high may also prevent training loss from converging.\n",
        "- If the training loss varies wildly (that is, the training loss jumps around), decrease the learning rate.\n",
        "- Lowering the learning rate while increasing the number of epochs or the batch size is often a good combination.\n",
        "- Setting the batch size to a very small batch number can also cause instability. First, try large batch size values. Then, decrease the batch size until you see degradation.\n",
        "- For real-world datasets consisting of a very large number of examples, the entire dataset might not fit into memory. In such cases, you'll need to reduce the batch size to enable a batch to fit into memory.\n",
        "\n",
        "The ideal combination of hyperparameters is data dependent, so you must always experiment and verify."
      ],
      "metadata": {
        "id": "PCu7d-wnEGyW"
      }
    },
    {
      "cell_type": "code",
      "source": [
        ""
      ],
      "metadata": {
        "id": "s7dWyoGJBrVQ"
      },
      "execution_count": null,
      "outputs": []
    }
  ]
}
